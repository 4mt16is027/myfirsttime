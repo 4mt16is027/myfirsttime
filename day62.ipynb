{
 "cells": [
  {
   "cell_type": "code",
   "execution_count": null,
   "metadata": {},
   "outputs": [],
   "source": [
    "import re\n",
    "inp=input(\"Enter the mobile no\")\n",
    "res=re.search(\"[6789][0-9]{9}\",inp)\n",
    "if res!=None:\n",
    "    print(\"correct\")\n",
    "else:\n",
    "    print(\"wrong\")\n"
   ]
  },
  {
   "cell_type": "code",
   "execution_count": null,
   "metadata": {},
   "outputs": [],
   "source": [
    "import re\n",
    "inp=input(\"Enter the mobile no\")\n",
    "res=re.search(\"[6789][0-9]{9}\",inp)\n",
    "if res!=None:\n",
    "    print(\"correct\")\n",
    "else:\n",
    "    print(\"wrong\")\n"
   ]
  },
  {
   "cell_type": "code",
   "execution_count": null,
   "metadata": {},
   "outputs": [],
   "source": [
    "f1=open(\"input.txt,\"r\")\n",
    "f2=open(\"output.txt\",\"w\")\n",
    "for line in f1:\n",
    "        list=re.findall(\"[6-9]\\d{9}]\",line)\n",
    "        for n in list:\n",
    "            f2.write(n+\"\\n\")\n",
    "print(\"extracted all mobile number\")\n",
    "f1.close()\n",
    "f2.close()        "
   ]
  },
  {
   "cell_type": "code",
   "execution_count": null,
   "metadata": {},
   "outputs": [],
   "source": [
    "import re\n",
    "inp=input(\"Enter the mobile no\")\n",
    "res=re.search(\"[6789][0-9]{9}\",inp)\n",
    "if res!=None:\n",
    "    print(\"correct\")\n",
    "else:\n",
    "    print(\"wrong\")\n"
   ]
  },
  {
   "cell_type": "code",
   "execution_count": null,
   "metadata": {},
   "outputs": [],
   "source": [
    "import re\n",
    "inp=input(\"Enter the mobile no\")\n",
    "res=re.search(\"[6789][0-9]{9}\",inp)\n",
    "if res!=None:\n",
    "    print(\"correct\")\n",
    "else:\n",
    "    print(\"wrong\")\n"
   ]
  },
  {
   "cell_type": "code",
   "execution_count": null,
   "metadata": {},
   "outputs": [],
   "source": []
  }
 ],
 "metadata": {
  "kernelspec": {
   "display_name": "Python 3",
   "language": "python",
   "name": "python3"
  },
  "language_info": {
   "codemirror_mode": {
    "name": "ipython",
    "version": 3
   },
   "file_extension": ".py",
   "mimetype": "text/x-python",
   "name": "python",
   "nbconvert_exporter": "python",
   "pygments_lexer": "ipython3",
   "version": "3.7.3"
  }
 },
 "nbformat": 4,
 "nbformat_minor": 2
}
